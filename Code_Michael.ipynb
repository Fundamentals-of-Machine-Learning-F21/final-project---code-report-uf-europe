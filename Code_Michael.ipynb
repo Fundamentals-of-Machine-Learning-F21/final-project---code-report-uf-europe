{
 "cells": [
  {
   "cell_type": "code",
   "execution_count": 34,
   "metadata": {},
   "outputs": [],
   "source": [
    "import numpy as np\n",
    "# Loading Data\n",
    "labels_names =['Stadium','Building','Traffic Sign','Forest','Flowers',\n",
    "              'Street','Classroom','Bridge','Statue','Lake']\n",
    "data_train = np.load('/Users/michael/Downloads/ML UF Dataset/data_train.npy')\n",
    "labels_train = np.load('/Users/michael/Downloads/ML UF Dataset/labels_train.npy')\n",
    "labels_train = labels_train.astype(int)\n",
    "\n",
    "#train_dataset = tf.data.Dataset.from_tensor_slices((data_train, labels_train))"
   ]
  },
  {
   "cell_type": "code",
   "execution_count": 46,
   "metadata": {},
   "outputs": [],
   "source": [
    "from PIL import Image\n",
    "import os\n",
    "import errno\n",
    "#Converting data to directory\n",
    "transposed_data = data_train.T\n",
    "\n",
    "for idx, l in np.ndenumerate(labels_train):\n",
    "   # data = data_train[:,idx]\n",
    "    data = transposed_data[idx]\n",
    "    img = Image.fromarray( data.reshape((300,300,3)), 'RGB')\n",
    "    labelNr = l - 1\n",
    "    filename = f'/Users/michael/Downloads/ML UF Dataset/KerasPrep/{labels_names[labelNr]}/{idx[0]}.jpg'\n",
    "    if not os.path.exists(os.path.dirname(filename)):\n",
    "        try:\n",
    "            os.makedirs(os.path.dirname(filename))\n",
    "        except OSError as exc: # Guard against race condition\n",
    "            if exc.errno != errno.EEXIST:\n",
    "                raise\n",
    "    img.save(filename)"
   ]
  },
  {
   "cell_type": "code",
   "execution_count": 58,
   "metadata": {},
   "outputs": [
    {
     "name": "stdout",
     "output_type": "stream",
     "text": [
      "Found 3124 files belonging to 10 classes.\n",
      "Using 2500 files for training.\n",
      "10\n",
      "Found 3124 files belonging to 10 classes.\n",
      "Using 624 files for validation.\n",
      "Model: \"sequential_8\"\n",
      "_________________________________________________________________\n",
      " Layer (type)                Output Shape              Param #   \n",
      "=================================================================\n",
      " sequential_7 (Sequential)   (None, 300, 300, 3)       0         \n",
      "                                                                 \n",
      " rescaling_5 (Rescaling)     (None, 300, 300, 3)       0         \n",
      "                                                                 \n",
      " conv2d_21 (Conv2D)          (None, 300, 300, 16)      448       \n",
      "                                                                 \n",
      " max_pooling2d_21 (MaxPoolin  (None, 150, 150, 16)     0         \n",
      " g2D)                                                            \n",
      "                                                                 \n",
      " conv2d_22 (Conv2D)          (None, 150, 150, 32)      4640      \n",
      "                                                                 \n",
      " max_pooling2d_22 (MaxPoolin  (None, 75, 75, 32)       0         \n",
      " g2D)                                                            \n",
      "                                                                 \n",
      " conv2d_23 (Conv2D)          (None, 75, 75, 64)        18496     \n",
      "                                                                 \n",
      " max_pooling2d_23 (MaxPoolin  (None, 37, 37, 64)       0         \n",
      " g2D)                                                            \n",
      "                                                                 \n",
      " dropout_4 (Dropout)         (None, 37, 37, 64)        0         \n",
      "                                                                 \n",
      " flatten_7 (Flatten)         (None, 87616)             0         \n",
      "                                                                 \n",
      " dense_14 (Dense)            (None, 128)               11214976  \n",
      "                                                                 \n",
      " dense_15 (Dense)            (None, 10)                1290      \n",
      "                                                                 \n",
      "=================================================================\n",
      "Total params: 11,239,850\n",
      "Trainable params: 11,239,850\n",
      "Non-trainable params: 0\n",
      "_________________________________________________________________\n"
     ]
    }
   ],
   "source": [
    "import tensorflow as tf\n",
    "from tensorflow import keras\n",
    "from tensorflow.keras import layers\n",
    "from tensorflow.keras.models import Sequential\n",
    "\n",
    "batch_size = 32\n",
    "img_height = 300\n",
    "img_width = 300\n",
    "data_dir = '/Users/michael/Downloads/ML UF Dataset/KerasPrep'\n",
    "# dividing in classes train and validation 0.8 / 0.2\n",
    "train_ds = tf.keras.preprocessing.image_dataset_from_directory(\n",
    "  data_dir,\n",
    "  validation_split=0.2,\n",
    "  subset=\"training\",\n",
    "  seed=123,\n",
    "  image_size=(img_height, img_width),\n",
    "  batch_size=batch_size)\n",
    "\n",
    "num_classes = len(train_ds.class_names)\n",
    "print(num_classes)\n",
    "\n",
    "val_ds = tf.keras.preprocessing.image_dataset_from_directory(\n",
    "  data_dir,\n",
    "  validation_split=0.2,\n",
    "  subset=\"validation\",\n",
    "  seed=123,\n",
    "  image_size=(img_height, img_width),\n",
    "  batch_size=batch_size)\n",
    "\n",
    "AUTOTUNE = tf.data.AUTOTUNE\n",
    "\n",
    "train_ds = train_ds.cache().shuffle(1000).prefetch(buffer_size=AUTOTUNE)\n",
    "val_ds = val_ds.cache().prefetch(buffer_size=AUTOTUNE)\n",
    "\n",
    "#flip the images and rotate and zoom to increase generalization.\n",
    "data_augmentation = keras.Sequential(\n",
    "  [\n",
    "    layers.RandomFlip(\"horizontal\",\n",
    "                      input_shape=(img_height,\n",
    "                                  img_width,\n",
    "                                  3)),\n",
    "    layers.RandomRotation(0.1),\n",
    "    layers.RandomZoom(0.1),\n",
    "  ]\n",
    ")\n",
    "# Building the sequential model with relu acitivation function\n",
    "model = Sequential([\n",
    "  data_augmentation,\n",
    "  layers.Rescaling(1./255),\n",
    "  layers.Conv2D(16, 3, padding='same', activation='relu'),\n",
    "  layers.MaxPooling2D(),\n",
    "  layers.Conv2D(32, 3, padding='same', activation='relu'),\n",
    "  layers.MaxPooling2D(),\n",
    "  layers.Conv2D(64, 3, padding='same', activation='relu'),\n",
    "  layers.MaxPooling2D(),\n",
    "  layers.Dropout(0.1),\n",
    "  layers.Flatten(),\n",
    "  layers.Dense(128, activation='relu'),\n",
    "  layers.Dense(num_classes)\n",
    "])\n",
    "\n",
    "# use adam model optimizer.\n",
    "model.compile(optimizer='adam',\n",
    "              loss=tf.keras.losses.SparseCategoricalCrossentropy(from_logits=True),\n",
    "              metrics=['accuracy'])\n",
    "\n",
    "model.summary()"
   ]
  },
  {
   "cell_type": "code",
   "execution_count": 59,
   "metadata": {},
   "outputs": [
    {
     "name": "stdout",
     "output_type": "stream",
     "text": [
      "Epoch 1/10\n",
      "79/79 [==============================] - 77s 927ms/step - loss: 2.4578 - accuracy: 0.1516 - val_loss: 2.0634 - val_accuracy: 0.2324\n",
      "Epoch 2/10\n",
      "79/79 [==============================] - 74s 933ms/step - loss: 1.8056 - accuracy: 0.3700 - val_loss: 1.7227 - val_accuracy: 0.4343\n",
      "Epoch 3/10\n",
      "79/79 [==============================] - 74s 938ms/step - loss: 1.5180 - accuracy: 0.4864 - val_loss: 1.4837 - val_accuracy: 0.5208\n",
      "Epoch 4/10\n",
      "79/79 [==============================] - 74s 934ms/step - loss: 1.3989 - accuracy: 0.5300 - val_loss: 1.3467 - val_accuracy: 0.5497\n",
      "Epoch 5/10\n",
      "79/79 [==============================] - 72s 906ms/step - loss: 1.3115 - accuracy: 0.5668 - val_loss: 1.3187 - val_accuracy: 0.5577\n",
      "Epoch 6/10\n",
      "79/79 [==============================] - 71s 900ms/step - loss: 1.2793 - accuracy: 0.5656 - val_loss: 1.3632 - val_accuracy: 0.5240\n",
      "Epoch 7/10\n",
      "79/79 [==============================] - 71s 902ms/step - loss: 1.1836 - accuracy: 0.6000 - val_loss: 1.2146 - val_accuracy: 0.6058\n",
      "Epoch 8/10\n",
      "79/79 [==============================] - 71s 898ms/step - loss: 1.1088 - accuracy: 0.6292 - val_loss: 1.2205 - val_accuracy: 0.5865\n",
      "Epoch 9/10\n",
      "79/79 [==============================] - 71s 902ms/step - loss: 1.0770 - accuracy: 0.6316 - val_loss: 1.2027 - val_accuracy: 0.6122\n",
      "Epoch 10/10\n",
      "79/79 [==============================] - 71s 898ms/step - loss: 1.0100 - accuracy: 0.6484 - val_loss: 1.2718 - val_accuracy: 0.5897\n"
     ]
    }
   ],
   "source": [
    "#train model\n",
    "\n",
    "epochs=10\n",
    "history = model.fit(\n",
    "  train_ds,\n",
    "  validation_data=val_ds,\n",
    "  epochs=epochs\n",
    ")"
   ]
  },
  {
   "cell_type": "code",
   "execution_count": 60,
   "metadata": {},
   "outputs": [
    {
     "data": {
      "image/png": "[encoded data removed]",
      "text/plain": [
       "<Figure size 576x576 with 2 Axes>"
      ]
     },
     "metadata": {
      "needs_background": "light"
     },
     "output_type": "display_data"
    }
   ],
   "source": [
    "import matplotlib.pyplot as plt\n",
    "acc = history.history['accuracy']\n",
    "val_acc = history.history['val_accuracy']\n",
    "\n",
    "loss = history.history['loss']\n",
    "val_loss = history.history['val_loss']\n",
    "\n",
    "epochs_range = range(epochs)\n",
    "\n",
    "plt.figure(figsize=(8, 8))\n",
    "plt.subplot(1, 2, 1)\n",
    "plt.plot(epochs_range, acc, label='Training Accuracy')\n",
    "plt.plot(epochs_range, val_acc, label='Validation Accuracy')\n",
    "plt.legend(loc='lower right')\n",
    "plt.title('Training and Validation Accuracy')\n",
    "\n",
    "plt.subplot(1, 2, 2)\n",
    "plt.plot(epochs_range, loss, label='Training Loss')\n",
    "plt.plot(epochs_range, val_loss, label='Validation Loss')\n",
    "plt.legend(loc='upper right')\n",
    "plt.title('Training and Validation Loss')\n",
    "plt.show()"
   ]
  },
  {
   "cell_type": "code",
   "execution_count": null,
   "metadata": {},
   "outputs": [],
   "source": []
  }
 ],
 "metadata": {
  "interpreter": {
   "hash": "b8f7ade48c80230ac5b84b17687fc16066a630bd01b7221445104590a037b0bd"
  },
  "kernelspec": {
   "display_name": "Python 3.8.2 64-bit ('shims': pyenv)",
   "language": "python",
   "name": "python3"
  },
  "language_info": {
   "codemirror_mode": {
    "name": "ipython",
    "version": 3
   },
   "file_extension": ".py",
   "mimetype": "text/x-python",
   "name": "python",
   "nbconvert_exporter": "python",
   "pygments_lexer": "ipython3",
   "version": "3.8.2"
  },
  "orig_nbformat": 4
 },
 "nbformat": 4,
 "nbformat_minor": 2
}
