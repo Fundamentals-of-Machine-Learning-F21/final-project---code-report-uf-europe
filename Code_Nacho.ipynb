{
 "cells": [
  {
   "cell_type": "code",
   "execution_count": 1,
   "id": "fdadf5c2-dd7b-43ca-b0aa-879f171cf241",
   "metadata": {},
   "outputs": [],
   "source": [
    "import matplotlib.pyplot as plt # for plotting\n",
    "import numpy as np # for transformation\n",
    "\n",
    "import torch # PyTorch package\n",
    "import torchvision # load datasets\n",
    "import torchvision.transforms as transforms # transform data\n",
    "import torch.nn as nn # basic building block for neural neteorks\n",
    "import torch.nn.functional as F # import convolution functions like Relu\n",
    "import torch.optim as optim # optimzer\n",
    "from torch.utils.data import Dataset, DataLoader"
   ]
  },
  {
   "cell_type": "code",
   "execution_count": 2,
   "id": "a27e3f4d-43a0-40f3-846d-e158559f07ed",
   "metadata": {},
   "outputs": [],
   "source": [
    "class NaturalImages_Dataset(Dataset):\n",
    "    def __init__(self, path_2_data, path_2_labels):\n",
    "      \n",
    "        # Load data from files\n",
    "        # read data and cast it a numpy array\n",
    "        data = np.load(path_2_data)\n",
    "        labels = np.squeeze(np.load(path_2_labels))\n",
    "        \n",
    "        # Convert data & labels from numpy to PyTorch format\n",
    "        data = torch.from_numpy(data)\n",
    "        data = data.permute(1,0)        \n",
    "        labels = torch.from_numpy(labels)        \n",
    "\n",
    "        # Store data as part of the class        \n",
    "        self.data = data\n",
    "        self.labels = labels\n",
    "        \n",
    "    def __len__(self):\n",
    "      \n",
    "        # Calculate and return the number of samples in the dataset\n",
    "        return(len(self.labels))\n",
    "        \n",
    "    def __getitem__(self, idx):\n",
    "      \n",
    "        # Return the requested index of the data set as dictionary containing \n",
    "        # the data and the label\n",
    "        sample = dict()\n",
    "        sample['index'] = idx\n",
    "        sample['data'] = self.data[idx]\n",
    "        sample['label'] = self.labels[idx]\n",
    "        \n",
    "        return sample"
   ]
  },
  {
   "cell_type": "code",
   "execution_count": 3,
   "id": "74e76d8b-c8f7-424f-80be-4911967e39dc",
   "metadata": {},
   "outputs": [],
   "source": [
    "# Initialize the dataset\n",
    "NaturalImages_data = NaturalImages_Dataset('data_train.npy', 'labels_train.npy')"
   ]
  },
  {
   "cell_type": "code",
   "execution_count": 4,
   "id": "533f604f-ea61-4cd2-ad8d-994caae2cd30",
   "metadata": {},
   "outputs": [],
   "source": [
    "bSize = 10\n",
    "NaturalImages_loader = DataLoader(NaturalImages_data, batch_size=bSize, shuffle=True)\n",
    "\n",
    "for i, data in enumerate(NaturalImages_loader):\n",
    "    batch_indeces = data['index']\n",
    "    batch_data = data['data']\n",
    "    batch_labels = data['label']\n",
    "    \n",
    "    '''print('Batch %d' % (i))\n",
    "    print(batch_indeces)\n",
    "    print(batch_labels)\n",
    "    print(batch_data.shape)\n",
    "    print()'''"
   ]
  },
  {
   "cell_type": "code",
   "execution_count": null,
   "id": "8083c06d-b2b9-4ffc-a21a-596d3dcc7a79",
   "metadata": {},
   "outputs": [],
   "source": [
    "\n",
    "for epoch in range(2):  # loop over the dataset multiple times\n",
    "\n",
    "    running_loss = 0.0\n",
    "    for i, data in enumerate(NaturalImages_data.data, 0):\n",
    "        # get the inputs; data is a list of [inputs, labels]\n",
    "        inputs, labels = data\n",
    "\n",
    "        # zero the parameter gradients\n",
    "        optimizer.zero_grad()\n",
    "\n",
    "        # forward + backward + optimize\n",
    "        outputs = net(inputs)\n",
    "        loss = criterion(outputs, labels)\n",
    "        loss.backward()\n",
    "        optimizer.step()\n",
    "\n",
    "        # print statistics\n",
    "        running_loss += loss.item()\n",
    "        if i % 2000 == 1999:    # print every 2000 mini-batches\n",
    "            print('[%d, %5d] loss: %.3f' %\n",
    "                  (epoch + 1, i + 1, running_loss / 2000))\n",
    "            running_loss = 0.0"
   ]
  },
  {
   "cell_type": "code",
   "execution_count": null,
   "id": "6730eac2-0019-4353-b09c-f3441ae74899",
   "metadata": {},
   "outputs": [],
   "source": []
  },
  {
   "cell_type": "code",
   "execution_count": null,
   "id": "c49e8b5a-0794-49a1-b4cc-843bd2be6409",
   "metadata": {},
   "outputs": [],
   "source": []
  }
 ],
 "metadata": {
  "kernelspec": {
   "display_name": "PyTorch-1.10",
   "language": "python",
   "name": "pytorch-1.10"
  },
  "language_info": {
   "codemirror_mode": {
    "name": "ipython",
    "version": 3
   },
   "file_extension": ".py",
   "mimetype": "text/x-python",
   "name": "python",
   "nbconvert_exporter": "python",
   "pygments_lexer": "ipython3",
   "version": "3.9.7"
  }
 },
 "nbformat": 4,
 "nbformat_minor": 5
}
